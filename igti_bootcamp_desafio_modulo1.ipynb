{
  "nbformat": 4,
  "nbformat_minor": 0,
  "metadata": {
    "colab": {
      "name": "igti_bootcamp_desafio_modulo1.ipynb",
      "provenance": [],
      "authorship_tag": "ABX9TyOuiF7v6bKftz1jZpPotKuT",
      "include_colab_link": true
    },
    "kernelspec": {
      "name": "python3",
      "display_name": "Python 3"
    }
  },
  "cells": [
    {
      "cell_type": "markdown",
      "metadata": {
        "id": "view-in-github",
        "colab_type": "text"
      },
      "source": [
        "<a href=\"https://colab.research.google.com/github/iranjr85/igti_bootcamp_machine_learning/blob/master/igti_bootcamp_desafio_modulo1.ipynb\" target=\"_parent\"><img src=\"https://colab.research.google.com/assets/colab-badge.svg\" alt=\"Open In Colab\"/></a>"
      ]
    },
    {
      "cell_type": "markdown",
      "metadata": {
        "id": "lk0V2iYnEdW8",
        "colab_type": "text"
      },
      "source": [
        "Desafio do Módulo 1 - Bootcamp de Machine Learning do IGTI"
      ]
    },
    {
      "cell_type": "code",
      "metadata": {
        "id": "ecpsU6w1ECCe",
        "colab_type": "code",
        "colab": {}
      },
      "source": [
        "import pandas as pd"
      ],
      "execution_count": 0,
      "outputs": []
    },
    {
      "cell_type": "code",
      "metadata": {
        "id": "zV2HCn1GEZFc",
        "colab_type": "code",
        "colab": {
          "resources": {
            "http://localhost:8080/nbextensions/google.colab/files.js": {
              "data": "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",
              "ok": true,
              "headers": [
                [
                  "content-type",
                  "application/javascript"
                ]
              ],
              "status": 200,
              "status_text": ""
            }
          },
          "base_uri": "https://localhost:8080/",
          "height": 74
        },
        "outputId": "43044e3d-666e-4c3b-e3b0-6f78e1b92480"
      },
      "source": [
        "from google.colab import files\n",
        "data_to_load = files.upload()"
      ],
      "execution_count": 2,
      "outputs": [
        {
          "output_type": "display_data",
          "data": {
            "text/html": [
              "\n",
              "     <input type=\"file\" id=\"files-1600cc13-f8c3-4a1c-af80-8d9fda068719\" name=\"files[]\" multiple disabled />\n",
              "     <output id=\"result-1600cc13-f8c3-4a1c-af80-8d9fda068719\">\n",
              "      Upload widget is only available when the cell has been executed in the\n",
              "      current browser session. Please rerun this cell to enable.\n",
              "      </output>\n",
              "      <script src=\"/nbextensions/google.colab/files.js\"></script> "
            ],
            "text/plain": [
              "<IPython.core.display.HTML object>"
            ]
          },
          "metadata": {
            "tags": []
          }
        },
        {
          "output_type": "stream",
          "text": [
            "Saving comp_bikes_mod.csv to comp_bikes_mod.csv\n"
          ],
          "name": "stdout"
        }
      ]
    },
    {
      "cell_type": "code",
      "metadata": {
        "id": "i8rrdWU6Ecc4",
        "colab_type": "code",
        "colab": {}
      },
      "source": [
        "import io\n",
        "df = pd.read_csv(io.BytesIO(data_to_load['comp_bikes_mod.csv']))"
      ],
      "execution_count": 0,
      "outputs": []
    },
    {
      "cell_type": "code",
      "metadata": {
        "id": "JN4HS9lKE-BR",
        "colab_type": "code",
        "colab": {
          "base_uri": "https://localhost:8080/",
          "height": 204
        },
        "outputId": "ae708917-0706-42ae-ce1a-19fdc72316e9"
      },
      "source": [
        "df.head()"
      ],
      "execution_count": 73,
      "outputs": [
        {
          "output_type": "execute_result",
          "data": {
            "text/html": [
              "<div>\n",
              "<style scoped>\n",
              "    .dataframe tbody tr th:only-of-type {\n",
              "        vertical-align: middle;\n",
              "    }\n",
              "\n",
              "    .dataframe tbody tr th {\n",
              "        vertical-align: top;\n",
              "    }\n",
              "\n",
              "    .dataframe thead th {\n",
              "        text-align: right;\n",
              "    }\n",
              "</style>\n",
              "<table border=\"1\" class=\"dataframe\">\n",
              "  <thead>\n",
              "    <tr style=\"text-align: right;\">\n",
              "      <th></th>\n",
              "      <th>instant</th>\n",
              "      <th>dteday</th>\n",
              "      <th>season</th>\n",
              "      <th>yr</th>\n",
              "      <th>mnth</th>\n",
              "      <th>hr</th>\n",
              "      <th>holiday</th>\n",
              "      <th>weekday</th>\n",
              "      <th>workingday</th>\n",
              "      <th>weathersit</th>\n",
              "      <th>temp</th>\n",
              "      <th>atemp</th>\n",
              "      <th>hum</th>\n",
              "      <th>windspeed</th>\n",
              "      <th>casual</th>\n",
              "      <th>registered</th>\n",
              "      <th>cnt</th>\n",
              "    </tr>\n",
              "  </thead>\n",
              "  <tbody>\n",
              "    <tr>\n",
              "      <th>0</th>\n",
              "      <td>1.0</td>\n",
              "      <td>NaN</td>\n",
              "      <td>1.0</td>\n",
              "      <td>0.0</td>\n",
              "      <td>1.0</td>\n",
              "      <td>0.0</td>\n",
              "      <td>0.0</td>\n",
              "      <td>6.0</td>\n",
              "      <td>0.0</td>\n",
              "      <td>1.0</td>\n",
              "      <td>NaN</td>\n",
              "      <td>0.2879</td>\n",
              "      <td>0.81</td>\n",
              "      <td>0.0</td>\n",
              "      <td>3.0</td>\n",
              "      <td>13.0</td>\n",
              "      <td>16.0</td>\n",
              "    </tr>\n",
              "    <tr>\n",
              "      <th>1</th>\n",
              "      <td>2.0</td>\n",
              "      <td>2011-01-01</td>\n",
              "      <td>1.0</td>\n",
              "      <td>0.0</td>\n",
              "      <td>1.0</td>\n",
              "      <td>1.0</td>\n",
              "      <td>0.0</td>\n",
              "      <td>6.0</td>\n",
              "      <td>0.0</td>\n",
              "      <td>NaN</td>\n",
              "      <td>0.22</td>\n",
              "      <td>0.2727</td>\n",
              "      <td>0.80</td>\n",
              "      <td>0.0</td>\n",
              "      <td>8.0</td>\n",
              "      <td>32.0</td>\n",
              "      <td>40.0</td>\n",
              "    </tr>\n",
              "    <tr>\n",
              "      <th>2</th>\n",
              "      <td>3.0</td>\n",
              "      <td>2011-01-01</td>\n",
              "      <td>1.0</td>\n",
              "      <td>0.0</td>\n",
              "      <td>1.0</td>\n",
              "      <td>2.0</td>\n",
              "      <td>0.0</td>\n",
              "      <td>6.0</td>\n",
              "      <td>0.0</td>\n",
              "      <td>1.0</td>\n",
              "      <td>0.22</td>\n",
              "      <td>0.2727</td>\n",
              "      <td>0.80</td>\n",
              "      <td>0.0</td>\n",
              "      <td>5.0</td>\n",
              "      <td>27.0</td>\n",
              "      <td>32.0</td>\n",
              "    </tr>\n",
              "    <tr>\n",
              "      <th>3</th>\n",
              "      <td>4.0</td>\n",
              "      <td>2011-01-01</td>\n",
              "      <td>1.0</td>\n",
              "      <td>0.0</td>\n",
              "      <td>1.0</td>\n",
              "      <td>3.0</td>\n",
              "      <td>0.0</td>\n",
              "      <td>6.0</td>\n",
              "      <td>0.0</td>\n",
              "      <td>1.0</td>\n",
              "      <td>0.24</td>\n",
              "      <td>0.2879</td>\n",
              "      <td>0.75</td>\n",
              "      <td>0.0</td>\n",
              "      <td>3.0</td>\n",
              "      <td>10.0</td>\n",
              "      <td>13.0</td>\n",
              "    </tr>\n",
              "    <tr>\n",
              "      <th>4</th>\n",
              "      <td>5.0</td>\n",
              "      <td>2011-01-01</td>\n",
              "      <td>1.0</td>\n",
              "      <td>0.0</td>\n",
              "      <td>1.0</td>\n",
              "      <td>4.0</td>\n",
              "      <td>0.0</td>\n",
              "      <td>6.0</td>\n",
              "      <td>NaN</td>\n",
              "      <td>1.0</td>\n",
              "      <td>0.24</td>\n",
              "      <td>0.2879</td>\n",
              "      <td>0.75</td>\n",
              "      <td>0.0</td>\n",
              "      <td>0.0</td>\n",
              "      <td>1.0</td>\n",
              "      <td>1.0</td>\n",
              "    </tr>\n",
              "  </tbody>\n",
              "</table>\n",
              "</div>"
            ],
            "text/plain": [
              "   instant      dteday  season   yr  ...  windspeed  casual  registered   cnt\n",
              "0      1.0         NaN     1.0  0.0  ...        0.0     3.0        13.0  16.0\n",
              "1      2.0  2011-01-01     1.0  0.0  ...        0.0     8.0        32.0  40.0\n",
              "2      3.0  2011-01-01     1.0  0.0  ...        0.0     5.0        27.0  32.0\n",
              "3      4.0  2011-01-01     1.0  0.0  ...        0.0     3.0        10.0  13.0\n",
              "4      5.0  2011-01-01     1.0  0.0  ...        0.0     0.0         1.0   1.0\n",
              "\n",
              "[5 rows x 17 columns]"
            ]
          },
          "metadata": {
            "tags": []
          },
          "execution_count": 73
        }
      ]
    },
    {
      "cell_type": "markdown",
      "metadata": {
        "id": "rJGpMkUmPd9x",
        "colab_type": "text"
      },
      "source": [
        "No dataset utilizado para o desafio, quantas instâncias e atributos existem, respectivamente?"
      ]
    },
    {
      "cell_type": "code",
      "metadata": {
        "id": "NyNBz7s2FAky",
        "colab_type": "code",
        "colab": {
          "base_uri": "https://localhost:8080/",
          "height": 425
        },
        "outputId": "c82020ce-5616-4753-ec79-10791d0f273f"
      },
      "source": [
        "df.info()"
      ],
      "execution_count": 5,
      "outputs": [
        {
          "output_type": "stream",
          "text": [
            "<class 'pandas.core.frame.DataFrame'>\n",
            "RangeIndex: 17379 entries, 0 to 17378\n",
            "Data columns (total 17 columns):\n",
            " #   Column      Non-Null Count  Dtype  \n",
            "---  ------      --------------  -----  \n",
            " 0   instant     15641 non-null  float64\n",
            " 1   dteday      15641 non-null  object \n",
            " 2   season      15641 non-null  float64\n",
            " 3   yr          15641 non-null  float64\n",
            " 4   mnth        15641 non-null  float64\n",
            " 5   hr          15641 non-null  float64\n",
            " 6   holiday     15641 non-null  float64\n",
            " 7   weekday     15641 non-null  float64\n",
            " 8   workingday  15641 non-null  float64\n",
            " 9   weathersit  15641 non-null  float64\n",
            " 10  temp        15641 non-null  float64\n",
            " 11  atemp       15641 non-null  float64\n",
            " 12  hum         15641 non-null  float64\n",
            " 13  windspeed   15641 non-null  float64\n",
            " 14  casual      15641 non-null  float64\n",
            " 15  registered  15641 non-null  float64\n",
            " 16  cnt         15641 non-null  float64\n",
            "dtypes: float64(16), object(1)\n",
            "memory usage: 2.3+ MB\n"
          ],
          "name": "stdout"
        }
      ]
    },
    {
      "cell_type": "markdown",
      "metadata": {
        "id": "4oLne2wnPlya",
        "colab_type": "text"
      },
      "source": [
        "Quantos tipos diferentes de dados existem no dataset do desafio?"
      ]
    },
    {
      "cell_type": "code",
      "metadata": {
        "id": "hwsMlWHqFpNn",
        "colab_type": "code",
        "colab": {
          "base_uri": "https://localhost:8080/",
          "height": 68
        },
        "outputId": "524e8691-8e63-401d-c98b-dd116e21a3d9"
      },
      "source": [
        "df.dtypes.value_counts()"
      ],
      "execution_count": 8,
      "outputs": [
        {
          "output_type": "execute_result",
          "data": {
            "text/plain": [
              "float64    16\n",
              "object      1\n",
              "dtype: int64"
            ]
          },
          "metadata": {
            "tags": []
          },
          "execution_count": 8
        }
      ]
    },
    {
      "cell_type": "markdown",
      "metadata": {
        "id": "76oJnIP5PsV0",
        "colab_type": "text"
      },
      "source": [
        "Qual é a proporção (em %) de valores nulos existente na coluna \"temp\" (temperatura ambiente normalizada)?"
      ]
    },
    {
      "cell_type": "code",
      "metadata": {
        "id": "HFjZYMTxGPQs",
        "colab_type": "code",
        "colab": {
          "base_uri": "https://localhost:8080/",
          "height": 34
        },
        "outputId": "78b56fc9-1ca1-446e-f3ab-6865344e3e61"
      },
      "source": [
        "df['temp'].isna().sum() / 17378 * 100"
      ],
      "execution_count": 40,
      "outputs": [
        {
          "output_type": "execute_result",
          "data": {
            "text/plain": [
              "9.063183335251468"
            ]
          },
          "metadata": {
            "tags": []
          },
          "execution_count": 40
        }
      ]
    },
    {
      "cell_type": "markdown",
      "metadata": {
        "id": "I_zTfUxtRGXR",
        "colab_type": "text"
      },
      "source": [
        "Após retirar as linhas que contém valores nulos para a coluna \"dteday\", passamos a contar com quantas instancias e atributos, respectivamente?"
      ]
    },
    {
      "cell_type": "code",
      "metadata": {
        "id": "gnCYn9qIIDCm",
        "colab_type": "code",
        "colab": {}
      },
      "source": [
        "df.dropna(subset=['dteday'], inplace=True)"
      ],
      "execution_count": 0,
      "outputs": []
    },
    {
      "cell_type": "markdown",
      "metadata": {
        "id": "4PQ0gDTbRJ9s",
        "colab_type": "text"
      },
      "source": [
        "Considere o dataset após a retirada das linhas que continham valores nulos para a coluna \"dteday\". Qual é o valor médio para os dados da coluna \"temp\" (temperatura ambiente normalizada)?\n",
        "\n"
      ]
    },
    {
      "cell_type": "code",
      "metadata": {
        "id": "CSCn8cNGRSwX",
        "colab_type": "code",
        "colab": {
          "base_uri": "https://localhost:8080/",
          "height": 34
        },
        "outputId": "fcb1e38a-ab61-4b8f-8521-8b1e809978ed"
      },
      "source": [
        "df['temp'].median()"
      ],
      "execution_count": 41,
      "outputs": [
        {
          "output_type": "execute_result",
          "data": {
            "text/plain": [
              "0.5"
            ]
          },
          "metadata": {
            "tags": []
          },
          "execution_count": 41
        }
      ]
    },
    {
      "cell_type": "markdown",
      "metadata": {
        "id": "8_TgVtLkR73l",
        "colab_type": "text"
      },
      "source": [
        "Considere o dataset após a retirada das linhas que continham valores nulos para a coluna \"dteday\". Qual é o desvio padrão para os dados da coluna \"windspeed\" (velocidade do vento normalizada)?\n",
        "\n"
      ]
    },
    {
      "cell_type": "code",
      "metadata": {
        "id": "H_RkxcC-R9JN",
        "colab_type": "code",
        "colab": {
          "base_uri": "https://localhost:8080/",
          "height": 34
        },
        "outputId": "d9ced3bd-2e33-44da-b642-dfd0232d988b"
      },
      "source": [
        "df['windspeed'].std()"
      ],
      "execution_count": 42,
      "outputs": [
        {
          "output_type": "execute_result",
          "data": {
            "text/plain": [
              "0.12230930508286268"
            ]
          },
          "metadata": {
            "tags": []
          },
          "execution_count": 42
        }
      ]
    },
    {
      "cell_type": "markdown",
      "metadata": {
        "id": "jlhgvdjbed1m",
        "colab_type": "text"
      },
      "source": [
        "Considere o dataset após a retirada das linhas que continham valores nulos para a coluna \"dteday\". Transforme a coluna \"season\" em valores categóricos. Quantas categorias diferentes existem?"
      ]
    },
    {
      "cell_type": "code",
      "metadata": {
        "id": "hZIDzmuuegbp",
        "colab_type": "code",
        "colab": {
          "base_uri": "https://localhost:8080/",
          "height": 34
        },
        "outputId": "e66eef7d-9269-4d84-de41-32234e5c1fe4"
      },
      "source": [
        "df['season'].nunique()"
      ],
      "execution_count": 43,
      "outputs": [
        {
          "output_type": "execute_result",
          "data": {
            "text/plain": [
              "4"
            ]
          },
          "metadata": {
            "tags": []
          },
          "execution_count": 43
        }
      ]
    },
    {
      "cell_type": "markdown",
      "metadata": {
        "id": "AVkTiaGvetNk",
        "colab_type": "text"
      },
      "source": [
        "Considere o dataset após a retirada das linhas que continham valores nulos para a coluna \"dteday\". Transforme a coluna \"dteday\" no tipo \"datetime\". Qual é a última data presente no dataset ( YYYY-MM-DD)?"
      ]
    },
    {
      "cell_type": "code",
      "metadata": {
        "id": "C0ssG0_CewGA",
        "colab_type": "code",
        "colab": {
          "base_uri": "https://localhost:8080/",
          "height": 1000
        },
        "outputId": "17050358-7d09-4c57-d9ff-8c74e7b235ae"
      },
      "source": [
        "df['dteday'].unique()"
      ],
      "execution_count": 46,
      "outputs": [
        {
          "output_type": "execute_result",
          "data": {
            "text/plain": [
              "array(['2011-01-01', '2011-01-02', '2011-01-03', '2011-01-04',\n",
              "       '2011-01-05', '2011-01-06', '2011-01-07', '2011-01-08',\n",
              "       '2011-01-09', '2011-01-10', '2011-01-11', '2011-01-12',\n",
              "       '2011-01-13', '2011-01-14', '2011-01-15', '2011-01-16',\n",
              "       '2011-01-17', '2011-01-18', '2011-01-19', '2011-01-20',\n",
              "       '2011-01-21', '2011-01-22', '2011-01-23', '2011-01-24',\n",
              "       '2011-01-25', '2011-01-26', '2011-01-27', '2011-01-28',\n",
              "       '2011-01-29', '2011-01-30', '2011-01-31', '2011-02-01',\n",
              "       '2011-02-02', '2011-02-03', '2011-02-04', '2011-02-05',\n",
              "       '2011-02-06', '2011-02-07', '2011-02-08', '2011-02-09',\n",
              "       '2011-02-10', '2011-02-11', '2011-02-12', '2011-02-13',\n",
              "       '2011-02-14', '2011-02-15', '2011-02-16', '2011-02-17',\n",
              "       '2011-02-18', '2011-02-19', '2011-02-20', '2011-02-21',\n",
              "       '2011-02-22', '2011-02-23', '2011-02-24', '2011-02-25',\n",
              "       '2011-02-26', '2011-02-27', '2011-02-28', '2011-03-01',\n",
              "       '2011-03-02', '2011-03-03', '2011-03-04', '2011-03-05',\n",
              "       '2011-03-06', '2011-03-07', '2011-03-08', '2011-03-09',\n",
              "       '2011-03-10', '2011-03-11', '2011-03-12', '2011-03-13',\n",
              "       '2011-03-14', '2011-03-15', '2011-03-16', '2011-03-17',\n",
              "       '2011-03-18', '2011-03-19', '2011-03-20', '2011-03-21',\n",
              "       '2011-03-22', '2011-03-23', '2011-03-24', '2011-03-25',\n",
              "       '2011-03-26', '2011-03-27', '2011-03-28', '2011-03-29',\n",
              "       '2011-03-30', '2011-03-31', '2011-04-01', '2011-04-02',\n",
              "       '2011-04-03', '2011-04-04', '2011-04-05', '2011-04-06',\n",
              "       '2011-04-07', '2011-04-08', '2011-04-09', '2011-04-10',\n",
              "       '2011-04-11', '2011-04-12', '2011-04-13', '2011-04-14',\n",
              "       '2011-04-15', '2011-04-16', '2011-04-17', '2011-04-18',\n",
              "       '2011-04-19', '2011-04-20', '2011-04-21', '2011-04-22',\n",
              "       '2011-04-23', '2011-04-24', '2011-04-25', '2011-04-26',\n",
              "       '2011-04-27', '2011-04-28', '2011-04-29', '2011-04-30',\n",
              "       '2011-05-01', '2011-05-02', '2011-05-03', '2011-05-04',\n",
              "       '2011-05-05', '2011-05-06', '2011-05-07', '2011-05-08',\n",
              "       '2011-05-09', '2011-05-10', '2011-05-11', '2011-05-12',\n",
              "       '2011-05-13', '2011-05-14', '2011-05-15', '2011-05-16',\n",
              "       '2011-05-17', '2011-05-18', '2011-05-19', '2011-05-20',\n",
              "       '2011-05-21', '2011-05-22', '2011-05-23', '2011-05-24',\n",
              "       '2011-05-25', '2011-05-26', '2011-05-27', '2011-05-28',\n",
              "       '2011-05-29', '2011-05-30', '2011-05-31', '2011-06-01',\n",
              "       '2011-06-02', '2011-06-03', '2011-06-04', '2011-06-05',\n",
              "       '2011-06-06', '2011-06-07', '2011-06-08', '2011-06-09',\n",
              "       '2011-06-10', '2011-06-11', '2011-06-12', '2011-06-13',\n",
              "       '2011-06-14', '2011-06-15', '2011-06-16', '2011-06-17',\n",
              "       '2011-06-18', '2011-06-19', '2011-06-20', '2011-06-21',\n",
              "       '2011-06-22', '2011-06-23', '2011-06-24', '2011-06-25',\n",
              "       '2011-06-26', '2011-06-27', '2011-06-28', '2011-06-29',\n",
              "       '2011-06-30', '2011-07-01', '2011-07-02', '2011-07-03',\n",
              "       '2011-07-04', '2011-07-05', '2011-07-06', '2011-07-07',\n",
              "       '2011-07-08', '2011-07-09', '2011-07-10', '2011-07-11',\n",
              "       '2011-07-12', '2011-07-13', '2011-07-14', '2011-07-15',\n",
              "       '2011-07-16', '2011-07-17', '2011-07-18', '2011-07-19',\n",
              "       '2011-07-20', '2011-07-21', '2011-07-22', '2011-07-23',\n",
              "       '2011-07-24', '2011-07-25', '2011-07-26', '2011-07-27',\n",
              "       '2011-07-28', '2011-07-29', '2011-07-30', '2011-07-31',\n",
              "       '2011-08-01', '2011-08-02', '2011-08-03', '2011-08-04',\n",
              "       '2011-08-05', '2011-08-06', '2011-08-07', '2011-08-08',\n",
              "       '2011-08-09', '2011-08-10', '2011-08-11', '2011-08-12',\n",
              "       '2011-08-13', '2011-08-14', '2011-08-15', '2011-08-16',\n",
              "       '2011-08-17', '2011-08-18', '2011-08-19', '2011-08-20',\n",
              "       '2011-08-21', '2011-08-22', '2011-08-23', '2011-08-24',\n",
              "       '2011-08-25', '2011-08-26', '2011-08-27', '2011-08-28',\n",
              "       '2011-08-29', '2011-08-30', '2011-08-31', '2011-09-01',\n",
              "       '2011-09-02', '2011-09-03', '2011-09-04', '2011-09-05',\n",
              "       '2011-09-06', '2011-09-07', '2011-09-08', '2011-09-09',\n",
              "       '2011-09-10', '2011-09-11', '2011-09-12', '2011-09-13',\n",
              "       '2011-09-14', '2011-09-15', '2011-09-16', '2011-09-17',\n",
              "       '2011-09-18', '2011-09-19', '2011-09-20', '2011-09-21',\n",
              "       '2011-09-22', '2011-09-23', '2011-09-24', '2011-09-25',\n",
              "       '2011-09-26', '2011-09-27', '2011-09-28', '2011-09-29',\n",
              "       '2011-09-30', '2011-10-01', '2011-10-02', '2011-10-03',\n",
              "       '2011-10-04', '2011-10-05', '2011-10-06', '2011-10-07',\n",
              "       '2011-10-08', '2011-10-09', '2011-10-10', '2011-10-11',\n",
              "       '2011-10-12', '2011-10-13', '2011-10-14', '2011-10-15',\n",
              "       '2011-10-16', '2011-10-17', '2011-10-18', '2011-10-19',\n",
              "       '2011-10-20', '2011-10-21', '2011-10-22', '2011-10-23',\n",
              "       '2011-10-24', '2011-10-25', '2011-10-26', '2011-10-27',\n",
              "       '2011-10-28', '2011-10-29', '2011-10-30', '2011-10-31',\n",
              "       '2011-11-01', '2011-11-02', '2011-11-03', '2011-11-04',\n",
              "       '2011-11-05', '2011-11-06', '2011-11-07', '2011-11-08',\n",
              "       '2011-11-09', '2011-11-10', '2011-11-11', '2011-11-12',\n",
              "       '2011-11-13', '2011-11-14', '2011-11-15', '2011-11-16',\n",
              "       '2011-11-17', '2011-11-18', '2011-11-19', '2011-11-20',\n",
              "       '2011-11-21', '2011-11-22', '2011-11-23', '2011-11-24',\n",
              "       '2011-11-25', '2011-11-26', '2011-11-27', '2011-11-28',\n",
              "       '2011-11-29', '2011-11-30', '2011-12-01', '2011-12-02',\n",
              "       '2011-12-03', '2011-12-04', '2011-12-05', '2011-12-06',\n",
              "       '2011-12-07', '2011-12-08', '2011-12-09', '2011-12-10',\n",
              "       '2011-12-11', '2011-12-12', '2011-12-13', '2011-12-14',\n",
              "       '2011-12-15', '2011-12-16', '2011-12-17', '2011-12-18',\n",
              "       '2011-12-19', '2011-12-20', '2011-12-21', '2011-12-22',\n",
              "       '2011-12-23', '2011-12-24', '2011-12-25', '2011-12-26',\n",
              "       '2011-12-27', '2011-12-28', '2011-12-29', '2011-12-30',\n",
              "       '2011-12-31', '2012-01-01', '2012-01-02', '2012-01-03',\n",
              "       '2012-01-04', '2012-01-05', '2012-01-06', '2012-01-07',\n",
              "       '2012-01-08', '2012-01-09', '2012-01-10', '2012-01-11',\n",
              "       '2012-01-12', '2012-01-13', '2012-01-14', '2012-01-15',\n",
              "       '2012-01-16', '2012-01-17', '2012-01-18', '2012-01-19',\n",
              "       '2012-01-20', '2012-01-21', '2012-01-22', '2012-01-23',\n",
              "       '2012-01-24', '2012-01-25', '2012-01-26', '2012-01-27',\n",
              "       '2012-01-28', '2012-01-29', '2012-01-30', '2012-01-31',\n",
              "       '2012-02-01', '2012-02-02', '2012-02-03', '2012-02-04',\n",
              "       '2012-02-05', '2012-02-06', '2012-02-07', '2012-02-08',\n",
              "       '2012-02-09', '2012-02-10', '2012-02-11', '2012-02-12',\n",
              "       '2012-02-13', '2012-02-14', '2012-02-15', '2012-02-16',\n",
              "       '2012-02-17', '2012-02-18', '2012-02-19', '2012-02-20',\n",
              "       '2012-02-21', '2012-02-22', '2012-02-23', '2012-02-24',\n",
              "       '2012-02-25', '2012-02-26', '2012-02-27', '2012-02-28',\n",
              "       '2012-02-29', '2012-03-01', '2012-03-02', '2012-03-03',\n",
              "       '2012-03-04', '2012-03-05', '2012-03-06', '2012-03-07',\n",
              "       '2012-03-08', '2012-03-09', '2012-03-10', '2012-03-11',\n",
              "       '2012-03-12', '2012-03-13', '2012-03-14', '2012-03-15',\n",
              "       '2012-03-16', '2012-03-17', '2012-03-18', '2012-03-19',\n",
              "       '2012-03-20', '2012-03-21', '2012-03-22', '2012-03-23',\n",
              "       '2012-03-24', '2012-03-25', '2012-03-26', '2012-03-27',\n",
              "       '2012-03-28', '2012-03-29', '2012-03-30', '2012-03-31',\n",
              "       '2012-04-01', '2012-04-02', '2012-04-03', '2012-04-04',\n",
              "       '2012-04-05', '2012-04-06', '2012-04-07', '2012-04-08',\n",
              "       '2012-04-09', '2012-04-10', '2012-04-11', '2012-04-12',\n",
              "       '2012-04-13', '2012-04-14', '2012-04-15', '2012-04-16',\n",
              "       '2012-04-17', '2012-04-18', '2012-04-19', '2012-04-20',\n",
              "       '2012-04-21', '2012-04-22', '2012-04-23', '2012-04-24',\n",
              "       '2012-04-25', '2012-04-26', '2012-04-27', '2012-04-28',\n",
              "       '2012-04-29', '2012-04-30', '2012-05-01', '2012-05-02',\n",
              "       '2012-05-03', '2012-05-04', '2012-05-05', '2012-05-06',\n",
              "       '2012-05-07', '2012-05-08', '2012-05-09', '2012-05-10',\n",
              "       '2012-05-11', '2012-05-12', '2012-05-13', '2012-05-14',\n",
              "       '2012-05-15', '2012-05-16', '2012-05-17', '2012-05-18',\n",
              "       '2012-05-19', '2012-05-20', '2012-05-21', '2012-05-22',\n",
              "       '2012-05-23', '2012-05-24', '2012-05-25', '2012-05-26',\n",
              "       '2012-05-27', '2012-05-28', '2012-05-29', '2012-05-30',\n",
              "       '2012-05-31', '2012-06-01', '2012-06-02', '2012-06-03',\n",
              "       '2012-06-04', '2012-06-05', '2012-06-06', '2012-06-07',\n",
              "       '2012-06-08', '2012-06-09', '2012-06-10', '2012-06-11',\n",
              "       '2012-06-12', '2012-06-13', '2012-06-14', '2012-06-15',\n",
              "       '2012-06-16', '2012-06-17', '2012-06-18', '2012-06-19',\n",
              "       '2012-06-20', '2012-06-21', '2012-06-22', '2012-06-23',\n",
              "       '2012-06-24', '2012-06-25', '2012-06-26', '2012-06-27',\n",
              "       '2012-06-28', '2012-06-29', '2012-06-30', '2012-07-01',\n",
              "       '2012-07-02', '2012-07-03', '2012-07-04', '2012-07-05',\n",
              "       '2012-07-06', '2012-07-07', '2012-07-08', '2012-07-09',\n",
              "       '2012-07-10', '2012-07-11', '2012-07-12', '2012-07-13',\n",
              "       '2012-07-14', '2012-07-15', '2012-07-16', '2012-07-17',\n",
              "       '2012-07-18', '2012-07-19', '2012-07-20', '2012-07-21',\n",
              "       '2012-07-22', '2012-07-23', '2012-07-24', '2012-07-25',\n",
              "       '2012-07-26', '2012-07-27', '2012-07-28', '2012-07-29',\n",
              "       '2012-07-30', '2012-07-31', '2012-08-01', '2012-08-02',\n",
              "       '2012-08-03', '2012-08-04', '2012-08-05', '2012-08-06',\n",
              "       '2012-08-07', '2012-08-08', '2012-08-09', '2012-08-10',\n",
              "       '2012-08-11', '2012-08-12', '2012-08-13', '2012-08-14',\n",
              "       '2012-08-15', '2012-08-16', '2012-08-17', '2012-08-18',\n",
              "       '2012-08-19', '2012-08-20', '2012-08-21', '2012-08-22',\n",
              "       '2012-08-23', '2012-08-24', '2012-08-25', '2012-08-26',\n",
              "       '2012-08-27', '2012-08-28', '2012-08-29', '2012-08-30',\n",
              "       '2012-08-31', '2012-09-01', '2012-09-02', '2012-09-03',\n",
              "       '2012-09-04', '2012-09-05', '2012-09-06', '2012-09-07',\n",
              "       '2012-09-08', '2012-09-09', '2012-09-10', '2012-09-11',\n",
              "       '2012-09-12', '2012-09-13', '2012-09-14', '2012-09-15',\n",
              "       '2012-09-16', '2012-09-17', '2012-09-18', '2012-09-19',\n",
              "       '2012-09-20', '2012-09-21', '2012-09-22', '2012-09-23',\n",
              "       '2012-09-24', '2012-09-25', '2012-09-26', '2012-09-27',\n",
              "       '2012-09-28', '2012-09-29', '2012-09-30', '2012-10-01',\n",
              "       '2012-10-02', '2012-10-03', '2012-10-04', '2012-10-05',\n",
              "       '2012-10-06', '2012-10-07', '2012-10-08', '2012-10-09',\n",
              "       '2012-10-10', '2012-10-11', '2012-10-12', '2012-10-13',\n",
              "       '2012-10-14', '2012-10-15', '2012-10-16', '2012-10-17',\n",
              "       '2012-10-18', '2012-10-19', '2012-10-20', '2012-10-21',\n",
              "       '2012-10-22', '2012-10-23', '2012-10-24', '2012-10-25',\n",
              "       '2012-10-26', '2012-10-27', '2012-10-28', '2012-10-29',\n",
              "       '2012-10-30', '2012-10-31', '2012-11-01', '2012-11-02',\n",
              "       '2012-11-03', '2012-11-04', '2012-11-05', '2012-11-06',\n",
              "       '2012-11-07', '2012-11-08', '2012-11-09', '2012-11-10',\n",
              "       '2012-11-11', '2012-11-12', '2012-11-13', '2012-11-14',\n",
              "       '2012-11-15', '2012-11-16', '2012-11-17', '2012-11-18',\n",
              "       '2012-11-19', '2012-11-20', '2012-11-21', '2012-11-22',\n",
              "       '2012-11-23', '2012-11-24', '2012-11-25', '2012-11-26',\n",
              "       '2012-11-27', '2012-11-28', '2012-11-29', '2012-11-30',\n",
              "       '2012-12-01', '2012-12-02', '2012-12-03', '2012-12-04',\n",
              "       '2012-12-05', '2012-12-06', '2012-12-07', '2012-12-08',\n",
              "       '2012-12-09', '2012-12-10', '2012-12-11', '2012-12-12',\n",
              "       '2012-12-13', '2012-12-14', '2012-12-15', '2012-12-16',\n",
              "       '2012-12-17', '2012-12-18', '2012-12-19', '2012-12-20',\n",
              "       '2012-12-21', '2012-12-22', '2012-12-23', '2012-12-24',\n",
              "       '2012-12-25', '2012-12-26', '2012-12-27', '2012-12-28',\n",
              "       '2012-12-29', '2012-12-30', '2012-12-31'], dtype=object)"
            ]
          },
          "metadata": {
            "tags": []
          },
          "execution_count": 46
        }
      ]
    },
    {
      "cell_type": "markdown",
      "metadata": {
        "id": "YUbcJfB3fhty",
        "colab_type": "text"
      },
      "source": [
        "Considere o dataset após a retirada das linhas que continham valores nulos para a coluna \"dteday\". Considerendo o boxplot da variável \"windspeed\" (velocidade do vento) é CORRETO afirmar?\n",
        "\n"
      ]
    },
    {
      "cell_type": "code",
      "metadata": {
        "id": "dOy6k0vRfiaq",
        "colab_type": "code",
        "colab": {
          "base_uri": "https://localhost:8080/",
          "height": 285
        },
        "outputId": "99cf345d-aa8e-4ec3-f4d6-e5c1e9982775"
      },
      "source": [
        "df.boxplot(column =['windspeed'], grid = False) "
      ],
      "execution_count": 76,
      "outputs": [
        {
          "output_type": "execute_result",
          "data": {
            "text/plain": [
              "<matplotlib.axes._subplots.AxesSubplot at 0x7f5e5172f7b8>"
            ]
          },
          "metadata": {
            "tags": []
          },
          "execution_count": 76
        },
        {
          "output_type": "display_data",
          "data": {
            "image/png": "[encoded data removed]",
            "text/plain": [
              "<Figure size 432x288 with 1 Axes>"
            ]
          },
          "metadata": {
            "tags": [],
            "needs_background": "light"
          }
        }
      ]
    },
    {
      "cell_type": "markdown",
      "metadata": {
        "id": "HXL4TTWnzSEv",
        "colab_type": "text"
      },
      "source": [
        "Considere o dataset após a retirada das linhas que continham valores nulos para a coluna \"dteday\". Selecione as colunas \"season\", \"temp\", \"atemp\", \"hum\", \"windspeed\". Plot a matriz de correlação. Sobre as variáveis \"hum\" e \"cnt\" é CORRETO afirmar:\n",
        "\n"
      ]
    },
    {
      "cell_type": "code",
      "metadata": {
        "id": "34YlQKpWzUE_",
        "colab_type": "code",
        "colab": {
          "base_uri": "https://localhost:8080/",
          "height": 343
        },
        "outputId": "cd7c7954-0363-4522-9d1c-28430e6b64c4"
      },
      "source": [
        "import seaborn as sns\n",
        "corr = df.corr()\n",
        "sns.heatmap(corr, \n",
        "            xticklabels=corr.columns.values,\n",
        "            yticklabels=corr.columns.values)"
      ],
      "execution_count": 81,
      "outputs": [
        {
          "output_type": "execute_result",
          "data": {
            "text/plain": [
              "<matplotlib.axes._subplots.AxesSubplot at 0x7f5e5166d8d0>"
            ]
          },
          "metadata": {
            "tags": []
          },
          "execution_count": 81
        },
        {
          "output_type": "display_data",
          "data": {
            "image/png": "[encoded data removed]",
            "text/plain": [
              "<Figure size 432x288 with 2 Axes>"
            ]
          },
          "metadata": {
            "tags": [],
            "needs_background": "light"
          }
        }
      ]
    },
    {
      "cell_type": "markdown",
      "metadata": {
        "id": "Hce7949b3CEh",
        "colab_type": "text"
      },
      "source": [
        "Preencha os valores nulos das colunas \"hum\",\"cnt\" e \"casual\" com os valores médios. Utilize as variáveis \"hum\" e \"casual\" como independentes e a \"cnt\" como dependente. Aplique uma regressão linear. Qual o valor de R2? Utilize as entradas como teste.\n",
        "\n"
      ]
    },
    {
      "cell_type": "code",
      "metadata": {
        "id": "xLw59B3U3Epe",
        "colab_type": "code",
        "colab": {}
      },
      "source": [
        ""
      ],
      "execution_count": 0,
      "outputs": []
    }
  ]
}